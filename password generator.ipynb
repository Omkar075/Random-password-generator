{
 "cells": [
  {
   "cell_type": "markdown",
   "id": "39b0c64a",
   "metadata": {},
   "source": [
    "# Generating Strong Password using Python"
   ]
  },
  {
   "cell_type": "markdown",
   "id": "14618656",
   "metadata": {},
   "source": [
    "Create a random password generator having atleast one uppercase letter, lowercase letter, special character, and a number.\n",
    "the length of password should be must greater than equal to 4"
   ]
  },
  {
   "cell_type": "code",
   "execution_count": 36,
   "id": "9496ee98",
   "metadata": {},
   "outputs": [
    {
     "name": "stdout",
     "output_type": "stream",
     "text": [
      "Enter length of password:10\n",
      "6Cik<DHE!=\n"
     ]
    }
   ],
   "source": [
    "def randompass():\n",
    "    \n",
    "    '''Create a random password generator having atleast one uppercase letter, lowercase letter, special character, and a number.\n",
    "the length of password should be must greater than equal to 4'''\n",
    "    \n",
    "    import string\n",
    "    import random\n",
    "    # maximum length of password needed\n",
    "    # this can be changed to suit your password length\n",
    "    \n",
    "    len_pass = int(input('Enter length of password:'))\n",
    "    \n",
    "    #characters sets\n",
    "    \n",
    "    lower = string.ascii_lowercase\n",
    "    upper = string.ascii_uppercase\n",
    "    digits = string.digits\n",
    "    punctuation = string.punctuation\n",
    "    \n",
    "    # combines all the character from each character set above\n",
    "    \n",
    "    characters = list(lower + upper + digits + punctuation)\n",
    "    \n",
    "    # randomly select at least one character from each character set\n",
    "    # at this stage, the password contains only 4 characters but\n",
    "    # we want a n-character password\n",
    "    \n",
    "    temp_pass = list(random.choice(lower) + random.choice(upper) + random.choice(digits) + random.choice(punctuation))\n",
    "    \n",
    "    # now that we are sure we have at least one character from each\n",
    "    # set of characters, we fill the rest of\n",
    "    # the password length by selecting randomly from the combined\n",
    "    # list of characters above.\n",
    "\n",
    "    if len_pass >= 4:\n",
    "        for i in range(len_pass - 4):\n",
    "            temp_pass.append(random.choice(characters))\n",
    "        random.shuffle(temp_pass)\n",
    "        \n",
    "        # shuffle temporary password \n",
    "        # to prevent it from having a consistent pattern\n",
    "        # where the beginning of the password is predictable\n",
    "        \n",
    "        password=''.join(temp_pass)\n",
    "        \n",
    "        # join the temporary password with empty string\n",
    "        # to form the password\n",
    "        \n",
    "        return password\n",
    "    else:\n",
    "        return 'Please enter length greater than 4'\n",
    "    \n",
    "# print out password\n",
    "print(randompass())"
   ]
  },
  {
   "cell_type": "code",
   "execution_count": null,
   "id": "875b2ec7",
   "metadata": {},
   "outputs": [],
   "source": []
  }
 ],
 "metadata": {
  "kernelspec": {
   "display_name": "Python 3 (ipykernel)",
   "language": "python",
   "name": "python3"
  },
  "language_info": {
   "codemirror_mode": {
    "name": "ipython",
    "version": 3
   },
   "file_extension": ".py",
   "mimetype": "text/x-python",
   "name": "python",
   "nbconvert_exporter": "python",
   "pygments_lexer": "ipython3",
   "version": "3.9.12"
  }
 },
 "nbformat": 4,
 "nbformat_minor": 5
}
